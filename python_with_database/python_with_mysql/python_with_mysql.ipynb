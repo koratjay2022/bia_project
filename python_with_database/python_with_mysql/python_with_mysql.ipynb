{
 "cells": [
  {
   "cell_type": "code",
   "execution_count": 1,
   "metadata": {},
   "outputs": [],
   "source": [
    "# pip install mysql-connector-python"
   ]
  },
  {
   "cell_type": "code",
   "execution_count": 2,
   "metadata": {},
   "outputs": [],
   "source": [
    "import pandas as pd\n",
    "import numpy as np\n",
    "import mysql.connector as Myconn\n",
    "from common_database_function import connect_db,create_table,insert_single,select_all,update_data,delete_data"
   ]
  },
  {
   "cell_type": "code",
   "execution_count": 3,
   "metadata": {},
   "outputs": [],
   "source": [
    "Tabel_name = \"Emp\""
   ]
  },
  {
   "cell_type": "code",
   "execution_count": 4,
   "metadata": {},
   "outputs": [
    {
     "name": "stdout",
     "output_type": "stream",
     "text": [
      "Connected to the database\n"
     ]
    }
   ],
   "source": [
    "# mydb = Myconn.connect(\n",
    "#     host=\"localhost\",\n",
    "#     user=\"root\",\n",
    "#     password=\"Koratj@y54321\",\n",
    "#     database=\"pythonWithMysql\"\n",
    "# )\n",
    "mydb = connect_db(database_name='pythonWithMysql',password='Koratj@y54321')\n"
   ]
  },
  {
   "cell_type": "code",
   "execution_count": 5,
   "metadata": {},
   "outputs": [],
   "source": [
    "db_cursor = mydb.cursor()"
   ]
  },
  {
   "cell_type": "markdown",
   "metadata": {},
   "source": [
    "## Create Database\n"
   ]
  },
  {
   "cell_type": "code",
   "execution_count": 6,
   "metadata": {},
   "outputs": [
    {
     "name": "stdout",
     "output_type": "stream",
     "text": [
      "Table 'Emp' created or already exists!\n"
     ]
    }
   ],
   "source": [
    "create_table(db_cursor=db_cursor,tabel_name=Tabel_name)"
   ]
  },
  {
   "cell_type": "code",
   "execution_count": 7,
   "metadata": {},
   "outputs": [
    {
     "name": "stdout",
     "output_type": "stream",
     "text": [
      "Inserted 1 row.\n"
     ]
    }
   ],
   "source": [
    "#db_cursor.execute(\"insert into emp(Roll,name) values(%s,%s)\",(1,\"jay\"))\n",
    "# db_cursor.execute(\"insert into emp(Roll,name) values (1,'jay')\")\n",
    "# mydb.commit()\n",
    "# db_cursor.rowcount\n",
    "insert_single(db_cursor=db_cursor,tabel_name=Tabel_name,mydb=mydb,roll=\"1\",name=\"jay\")"
   ]
  },
  {
   "cell_type": "code",
   "execution_count": 8,
   "metadata": {},
   "outputs": [],
   "source": [
    "# db_insert = \"insert into emp(Roll,name) values (%s,%s)\"\n",
    "# db_list = [(3,'sahil'),('4','xyz'),(5,'abc'),('6','meet')]\n",
    "\n",
    "# db_cursor.executemany(db_insert,db_list)\n",
    "# mydb.commit()\n",
    "# db_cursor.rowcount"
   ]
  },
  {
   "cell_type": "code",
   "execution_count": 9,
   "metadata": {},
   "outputs": [
    {
     "data": {
      "text/plain": [
       "[(4, 'xyz'),\n",
       " (5, 'abc'),\n",
       " (4, 'xyz'),\n",
       " (5, 'abc'),\n",
       " (6, 'meet'),\n",
       " (4, 'xyz'),\n",
       " (5, 'abc'),\n",
       " (6, 'meet'),\n",
       " (15, 'jay'),\n",
       " (4, 'xyz'),\n",
       " (5, 'abc'),\n",
       " (6, 'meet'),\n",
       " (15, 'jay'),\n",
       " (4, 'xyz'),\n",
       " (5, 'abc'),\n",
       " (6, 'meet'),\n",
       " (15, 'jay'),\n",
       " (4, 'xyz'),\n",
       " (5, 'abc'),\n",
       " (6, 'meet'),\n",
       " (15, 'jay'),\n",
       " (15, 'jay'),\n",
       " (1, 'jay')]"
      ]
     },
     "execution_count": 9,
     "metadata": {},
     "output_type": "execute_result"
    }
   ],
   "source": [
    "select_all(db_cursor=db_cursor,tabel_name=Tabel_name)"
   ]
  },
  {
   "cell_type": "code",
   "execution_count": 10,
   "metadata": {},
   "outputs": [
    {
     "name": "stdout",
     "output_type": "stream",
     "text": [
      "Error updating data: 1292 (22007): Truncated incorrect DOUBLE value: 'asf'\n"
     ]
    }
   ],
   "source": [
    "update_data(db_cursor=db_cursor,tabel_name=Tabel_name,mydb=mydb,roll=15,name=\"asf\")\n",
    "# update_query = 'update emp set Roll=1 where name=\"ankit\"'\n",
    "# set_value = ('2','ankit')"
   ]
  },
  {
   "cell_type": "code",
   "execution_count": 15,
   "metadata": {},
   "outputs": [
    {
     "name": "stdout",
     "output_type": "stream",
     "text": [
      "Deleted 6 row.\n"
     ]
    }
   ],
   "source": [
    "# db_deletedata=\"delete from emp where name=%s\"\n",
    "# db_value=(\"sahil\",)\n",
    "# db_cursor.execute(db_deletedata,db_value)\n",
    "# mydb.commit()\n",
    "delete_data(db_cursor=db_cursor,tabel_name=Tabel_name,mydb=mydb,roll=5)"
   ]
  },
  {
   "cell_type": "code",
   "execution_count": 16,
   "metadata": {},
   "outputs": [
    {
     "data": {
      "text/plain": [
       "[(6, 'meet'), (6, 'meet'), (6, 'meet'), (6, 'meet'), (6, 'meet'), (1, 'jay')]"
      ]
     },
     "execution_count": 16,
     "metadata": {},
     "output_type": "execute_result"
    }
   ],
   "source": [
    "db_cursor.execute('select * from emp')\n",
    "\n",
    "db_select = db_cursor.fetchall()\n",
    "db_select"
   ]
  },
  {
   "cell_type": "code",
   "execution_count": null,
   "metadata": {},
   "outputs": [],
   "source": []
  },
  {
   "cell_type": "code",
   "execution_count": null,
   "metadata": {},
   "outputs": [],
   "source": []
  }
 ],
 "metadata": {
  "kernelspec": {
   "display_name": "Python 3",
   "language": "python",
   "name": "python3"
  },
  "language_info": {
   "codemirror_mode": {
    "name": "ipython",
    "version": 3
   },
   "file_extension": ".py",
   "mimetype": "text/x-python",
   "name": "python",
   "nbconvert_exporter": "python",
   "pygments_lexer": "ipython3",
   "version": "3.10.14"
  }
 },
 "nbformat": 4,
 "nbformat_minor": 2
}
