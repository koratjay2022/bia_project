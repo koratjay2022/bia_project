{
 "cells": [
  {
   "cell_type": "code",
   "execution_count": 1,
   "metadata": {},
   "outputs": [],
   "source": [
    "import pandas as pd\n",
    "import numpy as np"
   ]
  },
  {
   "cell_type": "code",
   "execution_count": 3,
   "metadata": {},
   "outputs": [
    {
     "name": "stdout",
     "output_type": "stream",
     "text": [
      "sad\n",
      "\n",
      "Selct Options\n",
      "1. Push\n",
      "2. Pop\n",
      "3. peek\n",
      "4. Display\n",
      "5. Quit\n",
      "\n",
      "10 pushed value\n",
      "\n",
      "Selct Options\n",
      "1. Push\n",
      "2. Pop\n",
      "3. peek\n",
      "4. Display\n",
      "5. Quit\n",
      "\n",
      "20 pushed value\n",
      "\n",
      "Selct Options\n",
      "1. Push\n",
      "2. Pop\n",
      "3. peek\n",
      "4. Display\n",
      "5. Quit\n",
      "\n",
      "30 pushed value\n",
      "\n",
      "Selct Options\n",
      "1. Push\n",
      "2. Pop\n",
      "3. peek\n",
      "4. Display\n",
      "5. Quit\n",
      "\n",
      "display\n",
      "\n",
      "Selct Options\n",
      "1. Push\n",
      "2. Pop\n",
      "3. peek\n",
      "4. Display\n",
      "5. Quit\n",
      "\n",
      "Exit.\n"
     ]
    }
   ],
   "source": [
    "from class_stack import Stack\n",
    "\n",
    "stack = Stack()\n",
    "print(\"sad\")\n",
    "while True:\n",
    "    print(\"\\nSelct Options\")\n",
    "    print(\"1. Push\")\n",
    "    print(\"2. Pop\")\n",
    "    print(\"3. peek\")\n",
    "    print(\"4. Display\")\n",
    "    print(\"5. Quit\\n\")\n",
    "    \n",
    "    action = int(input(\"Enter Number :- \"))\n",
    "    \n",
    "    if action == 1:\n",
    "        try:\n",
    "            value = int(input(\"Push a number :- \"))\n",
    "            stack.push(value)\n",
    "        except ValueError:\n",
    "            print(\"Please enter a valid number.\")\n",
    "    \n",
    "    elif action == 2:\n",
    "        stack.pop()\n",
    "\n",
    "    elif action == 3:\n",
    "        stack.peek()\n",
    "\n",
    "    elif action == 4:\n",
    "        stack.display()\n",
    "\n",
    "    elif action == 5:\n",
    "        print(\"Exit.\")\n",
    "        break\n",
    "\n",
    "    else:\n",
    "        print(\"Invalid action.\")"
   ]
  },
  {
   "cell_type": "code",
   "execution_count": null,
   "metadata": {},
   "outputs": [],
   "source": []
  },
  {
   "cell_type": "code",
   "execution_count": null,
   "metadata": {},
   "outputs": [],
   "source": []
  }
 ],
 "metadata": {
  "kernelspec": {
   "display_name": "Python 3 (ipykernel)",
   "language": "python",
   "name": "python3"
  },
  "language_info": {
   "codemirror_mode": {
    "name": "ipython",
    "version": 3
   },
   "file_extension": ".py",
   "mimetype": "text/x-python",
   "name": "python",
   "nbconvert_exporter": "python",
   "pygments_lexer": "ipython3",
   "version": "3.10.14"
  }
 },
 "nbformat": 4,
 "nbformat_minor": 4
}
