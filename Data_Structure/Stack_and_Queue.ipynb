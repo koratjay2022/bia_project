{
 "cells": [
  {
   "cell_type": "code",
   "execution_count": 1,
   "metadata": {},
   "outputs": [
    {
     "name": "stdout",
     "output_type": "stream",
     "text": [
      "Choose data structure:\n",
      "1. Stack\n",
      "2. Queue\n",
      "3. Exit\n",
      "\n",
      "Stack Operations:\n",
      "1. Insert\n",
      "2. Delete\n",
      "3. Display\n",
      "4. Back\n",
      "10 inserted.\n",
      "\n",
      "Stack Operations:\n",
      "1. Insert\n",
      "2. Delete\n",
      "3. Display\n",
      "4. Back\n",
      "20 inserted.\n",
      "\n",
      "Stack Operations:\n",
      "1. Insert\n",
      "2. Delete\n",
      "3. Display\n",
      "4. Back\n",
      "30 inserted.\n",
      "\n",
      "Stack Operations:\n",
      "1. Insert\n",
      "2. Delete\n",
      "3. Display\n",
      "4. Back\n"
     ]
    },
    {
     "ename": "TypeError",
     "evalue": "Stack.is_empty() takes 1 positional argument but 2 were given",
     "output_type": "error",
     "traceback": [
      "\u001b[1;31m---------------------------------------------------------------------------\u001b[0m",
      "\u001b[1;31mTypeError\u001b[0m                                 Traceback (most recent call last)",
      "Cell \u001b[1;32mIn[1], line 11\u001b[0m\n\u001b[0;32m      9\u001b[0m \u001b[38;5;28;01mif\u001b[39;00m choice \u001b[38;5;241m==\u001b[39m \u001b[38;5;124m'\u001b[39m\u001b[38;5;124m1\u001b[39m\u001b[38;5;124m'\u001b[39m:\n\u001b[0;32m     10\u001b[0m     stack \u001b[38;5;241m=\u001b[39m Stack()\n\u001b[1;32m---> 11\u001b[0m     \u001b[43mdata_structure_menu\u001b[49m\u001b[43m(\u001b[49m\u001b[43mstack\u001b[49m\u001b[43m,\u001b[49m\u001b[43m \u001b[49m\u001b[38;5;124;43m\"\u001b[39;49m\u001b[38;5;124;43mStack\u001b[39;49m\u001b[38;5;124;43m\"\u001b[39;49m\u001b[43m)\u001b[49m\n\u001b[0;32m     13\u001b[0m \u001b[38;5;28;01melif\u001b[39;00m choice \u001b[38;5;241m==\u001b[39m \u001b[38;5;124m'\u001b[39m\u001b[38;5;124m2\u001b[39m\u001b[38;5;124m'\u001b[39m:\n\u001b[0;32m     14\u001b[0m     queue \u001b[38;5;241m=\u001b[39m Queue()\n",
      "File \u001b[1;32md:\\Project\\Python\\Class\\bia_project\\Data_Structure\\class_stack_queue.py:121\u001b[0m, in \u001b[0;36mdata_structure_menu\u001b[1;34m(ob, ds_name)\u001b[0m\n\u001b[0;32m    119\u001b[0m     delete_item(ob)\n\u001b[0;32m    120\u001b[0m \u001b[38;5;28;01melif\u001b[39;00m operation \u001b[38;5;241m==\u001b[39m \u001b[38;5;124m'\u001b[39m\u001b[38;5;124m3\u001b[39m\u001b[38;5;124m'\u001b[39m:\n\u001b[1;32m--> 121\u001b[0m     \u001b[43mdisplay_items\u001b[49m\u001b[43m(\u001b[49m\u001b[43mob\u001b[49m\u001b[43m)\u001b[49m\n\u001b[0;32m    122\u001b[0m \u001b[38;5;28;01melif\u001b[39;00m operation \u001b[38;5;241m==\u001b[39m \u001b[38;5;124m'\u001b[39m\u001b[38;5;124m4\u001b[39m\u001b[38;5;124m'\u001b[39m:\n\u001b[0;32m    123\u001b[0m     \u001b[38;5;28;01mbreak\u001b[39;00m\n",
      "File \u001b[1;32md:\\Project\\Python\\Class\\bia_project\\Data_Structure\\class_stack_queue.py:105\u001b[0m, in \u001b[0;36mdisplay_items\u001b[1;34m(ob)\u001b[0m\n\u001b[0;32m    104\u001b[0m \u001b[38;5;28;01mdef\u001b[39;00m \u001b[38;5;21mdisplay_items\u001b[39m(ob):\n\u001b[1;32m--> 105\u001b[0m     \u001b[43mob\u001b[49m\u001b[38;5;241;43m.\u001b[39;49m\u001b[43mdisplay\u001b[49m\u001b[43m(\u001b[49m\u001b[43m)\u001b[49m\n",
      "File \u001b[1;32md:\\Project\\Python\\Class\\bia_project\\Data_Structure\\class_stack_queue.py:62\u001b[0m, in \u001b[0;36mStack.display\u001b[1;34m(self)\u001b[0m\n\u001b[0;32m     61\u001b[0m \u001b[38;5;28;01mdef\u001b[39;00m \u001b[38;5;21mdisplay\u001b[39m(\u001b[38;5;28mself\u001b[39m):\n\u001b[1;32m---> 62\u001b[0m     \u001b[38;5;28;01mif\u001b[39;00m \u001b[38;5;129;01mnot\u001b[39;00m \u001b[38;5;28;43mself\u001b[39;49m\u001b[38;5;241;43m.\u001b[39;49m\u001b[43mis_empty\u001b[49m\u001b[43m(\u001b[49m\u001b[38;5;28;43mself\u001b[39;49m\u001b[38;5;241;43m.\u001b[39;49m\u001b[43mstack\u001b[49m\u001b[43m)\u001b[49m:\n\u001b[0;32m     63\u001b[0m         \u001b[38;5;28mprint\u001b[39m(\u001b[38;5;124m\"\u001b[39m\u001b[38;5;124mStack:\u001b[39m\u001b[38;5;124m\"\u001b[39m, \u001b[38;5;28mself\u001b[39m\u001b[38;5;241m.\u001b[39mstack)\n\u001b[0;32m     64\u001b[0m     \u001b[38;5;28;01melse\u001b[39;00m:\n",
      "\u001b[1;31mTypeError\u001b[0m: Stack.is_empty() takes 1 positional argument but 2 were given"
     ]
    }
   ],
   "source": [
    "from class_stack_queue import Stack,Queue,data_structure_menu\n",
    "while True:\n",
    "        print(\"Choose data structure:\")\n",
    "        print(\"1. Stack\")\n",
    "        print(\"2. Queue\")\n",
    "        print(\"3. Exit\")\n",
    "        choice = input(\"Enter your choice (1/2/3): \")\n",
    "\n",
    "        if choice == '1':\n",
    "            stack = Stack()\n",
    "            data_structure_menu(stack, \"Stack\")\n",
    "\n",
    "        elif choice == '2':\n",
    "            queue = Queue()\n",
    "            data_structure_menu(queue, \"Queue\")\n",
    "\n",
    "        elif choice == '3':\n",
    "            print(\"Exiting program.\")\n",
    "            break\n",
    "\n",
    "        else:\n",
    "            print(\"Invalid choice! Please try again.\")"
   ]
  }
 ],
 "metadata": {
  "kernelspec": {
   "display_name": "Python 3 (ipykernel)",
   "language": "python",
   "name": "python3"
  },
  "language_info": {
   "codemirror_mode": {
    "name": "ipython",
    "version": 3
   },
   "file_extension": ".py",
   "mimetype": "text/x-python",
   "name": "python",
   "nbconvert_exporter": "python",
   "pygments_lexer": "ipython3",
   "version": "3.10.14"
  }
 },
 "nbformat": 4,
 "nbformat_minor": 4
}
